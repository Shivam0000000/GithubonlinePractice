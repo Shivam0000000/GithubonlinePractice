{
 "cells": [
  {
   "cell_type": "markdown",
   "id": "2de3fb1f-33ca-4f7f-9771-79500b4a787d",
   "metadata": {},
   "source": [
    "Consider the below code to answer further questions:\n",
    "\n",
    "import numpy as np\n",
    "\n",
    "list_ = [ ‘1’ , ’2’ , ‘3’ , ‘4’ , ‘5’ ]\n",
    "\n",
    "array_list = np.array(object = list_)\n",
    "\n",
    "(For : Q1 and Q2)\n"
   ]
  },
  {
   "cell_type": "markdown",
   "id": "9e6d5075-5df3-4937-b5c4-74326f32284d",
   "metadata": {},
   "source": [
    "Q1. Is there any difference in the data type of variables list_ and array_list? If there is then write a code\n",
    "to print the data types of both the variables."
   ]
  },
  {
   "cell_type": "code",
   "execution_count": 11,
   "id": "c97f86ca-d827-44a0-bf2c-172cf7940c11",
   "metadata": {},
   "outputs": [
    {
     "name": "stdout",
     "output_type": "stream",
     "text": [
      "<class 'list'>\n",
      "<class 'numpy.ndarray'>\n"
     ]
    }
   ],
   "source": [
    "import numpy as np\n",
    "\n",
    "list_ = ['1','2','3','4','5']  #It is List Object\n",
    "\n",
    "array_list = np.array(object = list_) ##It is a Numpy Array\n",
    "\n",
    "\"\"\" List:General-purpose dynamic array for storing elements of any type, supporting\n",
    "          dynamic resizing.\n",
    "    NumPy:Numerical computing library with efficient multidimensional arrays, optimized \n",
    "         for numerical operations and homogeneous data types, providing extensive mathematical\n",
    "         functionality.\n",
    "\"\"\"\n",
    "\n",
    "print(type(list_))\n",
    "print(type(array_list))"
   ]
  },
  {
   "cell_type": "markdown",
   "id": "95087c21-9541-49b5-a175-f69b01ca5cf7",
   "metadata": {},
   "source": [
    "Q2. Write a code to print the data type of each and every element of both the variables list_ and\n",
    "arra_list."
   ]
  },
  {
   "cell_type": "code",
   "execution_count": 12,
   "id": "c7dbf3a5-4266-4d34-b346-d7843fa3c1e8",
   "metadata": {},
   "outputs": [
    {
     "name": "stdout",
     "output_type": "stream",
     "text": [
      "1 Element of list_: <class 'str'>\n",
      "2 Element of list_: <class 'str'>\n",
      "3 Element of list_: <class 'str'>\n",
      "4 Element of list_: <class 'str'>\n",
      "5 Element of list_: <class 'str'>\n",
      "1 Element of list_: <class 'numpy.str_'>\n",
      "2 Element of list_: <class 'numpy.str_'>\n",
      "3 Element of list_: <class 'numpy.str_'>\n",
      "4 Element of list_: <class 'numpy.str_'>\n",
      "5 Element of list_: <class 'numpy.str_'>\n"
     ]
    }
   ],
   "source": [
    "for i in iter(list_):\n",
    "    print(i,\"Element of list_:\",type(i))\n",
    "    \n",
    "for j in iter(array_list):\n",
    "    print(j,\"Element of list_:\",type(j))    \n",
    "    \n",
    "\"\"\" the data type of each element in array_list is numpy.str_, \n",
    "    which is a specific string data type used by NumPy arrays.\"\"\"    "
   ]
  },
  {
   "cell_type": "markdown",
   "id": "10d4fa32-fc75-4b46-829e-d762b3f41f6e",
   "metadata": {},
   "source": [
    "Q3. Considering the following changes in the variable, array_list:\n",
    "\n",
    "array_list = np.array(object = list_, dtype = int)\n",
    "\n",
    "Will there be any difference in the data type of the elements present in both the variables, list_ and\n",
    "arra_list? If so then print the data types of each and every element present in both the variables, list_\n",
    "and arra_list.\n",
    "\n"
   ]
  },
  {
   "cell_type": "code",
   "execution_count": 16,
   "id": "4858211f-be79-4b3a-92b8-bbf503ff1a32",
   "metadata": {},
   "outputs": [
    {
     "name": "stdout",
     "output_type": "stream",
     "text": [
      "1 Element of list_: <class 'numpy.int64'>\n",
      "2 Element of list_: <class 'numpy.int64'>\n",
      "3 Element of list_: <class 'numpy.int64'>\n",
      "4 Element of list_: <class 'numpy.int64'>\n",
      "5 Element of list_: <class 'numpy.int64'>\n"
     ]
    }
   ],
   "source": [
    "array_list = np.array(object = list_, dtype = int)\n",
    "for i in iter(array_list):\n",
    "    print(i,\"Element of list_:\",type(j))    \n",
    "    \n",
    "\"\"\" data type of each element in the updated array_list is now numpy.int64, \n",
    "    indicating integers. The elements in list_ still retain their original \n",
    "    data type, which is str. \"\"\"   "
   ]
  },
  {
   "cell_type": "markdown",
   "id": "943c9400-7453-473e-aea3-f6d0c6a0a997",
   "metadata": {},
   "source": [
    "Consider the below code to answer further questions:\n",
    "\n",
    "import numpy as np\n",
    "\n",
    "num_list = [ [ 1 , 2 , 3 ] , [ 4 , 5 , 6 ] ]\n",
    "\n",
    "num_array = np.array(object = num_list)\n",
    "\n",
    "\n",
    "Q4. Write a code to find the following characteristics of variable, num_array:\n",
    "\n",
    "(i) shape\n",
    "\n",
    "(ii) size"
   ]
  },
  {
   "cell_type": "code",
   "execution_count": 21,
   "id": "9753bb16-5a23-4f09-839c-652aeff28dcc",
   "metadata": {},
   "outputs": [
    {
     "name": "stdout",
     "output_type": "stream",
     "text": [
      "Shape of an array :  (2, 3)\n",
      "Size of an array :  6\n"
     ]
    }
   ],
   "source": [
    "num_list =[[1,2,3],[4,5,6]]\n",
    "num_array=np.array(num_list)\n",
    "print(\"Shape of an array : \",num_array.shape)\n",
    "print(\"Size of an array : \",num_array.size)"
   ]
  },
  {
   "cell_type": "markdown",
   "id": "5a89cfd8-df99-4e7d-be3a-dad7b23eeef0",
   "metadata": {},
   "source": [
    "Q5. Write a code to create numpy array of 3*3 matrix containing zeros only, using a numpy array\n",
    "creation function.\n",
    "\n",
    "[Hint: The size of the array will be 9 and the shape will be (3,3).]\n"
   ]
  },
  {
   "cell_type": "code",
   "execution_count": 26,
   "id": "11415e89-8a5d-4e58-9c17-db4a32c334db",
   "metadata": {},
   "outputs": [
    {
     "name": "stdout",
     "output_type": "stream",
     "text": [
      "[[0. 0. 0.]\n",
      " [0. 0. 0.]\n",
      " [0. 0. 0.]]\n",
      "Shape of an array :  (3, 3)\n",
      "Size of an array :  9\n"
     ]
    }
   ],
   "source": [
    "zero_array=np.zeros((3,3))\n",
    "print(zero_array)\n",
    "print(\"Shape of an array : \",zero_array.shape)\n",
    "print(\"Size of an array : \",zero_array.size)"
   ]
  },
  {
   "cell_type": "markdown",
   "id": "4383c406-1a33-4cd0-803e-a77f145bccef",
   "metadata": {},
   "source": [
    "Q6. Create an identity matrix of shape (5,5) using numpy functions?\n",
    "\n",
    "[Hint: An identity matrix is a matrix containing 1 diagonally and other elements will be 0.]"
   ]
  },
  {
   "cell_type": "code",
   "execution_count": 28,
   "id": "18aa26e0-4499-4866-a0e4-f145bdf33093",
   "metadata": {},
   "outputs": [
    {
     "data": {
      "text/plain": [
       "array([[1., 0., 0., 0., 0.],\n",
       "       [0., 1., 0., 0., 0.],\n",
       "       [0., 0., 1., 0., 0.],\n",
       "       [0., 0., 0., 1., 0.],\n",
       "       [0., 0., 0., 0., 1.]])"
      ]
     },
     "execution_count": 28,
     "metadata": {},
     "output_type": "execute_result"
    }
   ],
   "source": [
    "np.eye(5,5)"
   ]
  }
 ],
 "metadata": {
  "kernelspec": {
   "display_name": "Python 3 (ipykernel)",
   "language": "python",
   "name": "python3"
  },
  "language_info": {
   "codemirror_mode": {
    "name": "ipython",
    "version": 3
   },
   "file_extension": ".py",
   "mimetype": "text/x-python",
   "name": "python",
   "nbconvert_exporter": "python",
   "pygments_lexer": "ipython3",
   "version": "3.10.8"
  }
 },
 "nbformat": 4,
 "nbformat_minor": 5
}
